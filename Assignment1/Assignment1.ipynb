{
 "cells": [
  {
   "cell_type": "markdown",
   "id": "a45f6da8",
   "metadata": {},
   "source": [
    "# Challenge1 - Shannon Entropy\n",
    "In information theory, the entropy of a random variable is the average level of uncertainty inherent to the\n",
    "variable’s possible outcomes. The ASCII characters are numbered from 0 to 255, hence the maximum\n",
    "entropy of an ASCII string is 8 bits (28\n",
    "= 256) . We have the following ASCII string:"
   ]
  },
  {
   "cell_type": "code",
   "execution_count": 1,
   "id": "aba9f7bd",
   "metadata": {},
   "outputs": [],
   "source": [
    "#The ASCII string\n",
    "stringASCII = \"\"\"638641928372893782137283728937828317832738273737273761228\n",
    "195185760759869989057645530122647115911285708569659594024\n",
    "445316559272737972392181418242480868160284993816981988659\n",
    "390629564549499104717875209116877202330066229963480959417\n",
    "596806455549746619727918764644414932151957144886878537346\n",
    "701772413385937956782906140121520152347838978899113367959\n",
    "368427877691197821889887704400368429082820042418140108973\"\"\"\n",
    "\n",
    "#string wich contains only the numbers from the previous ASCII string\n",
    "part1 = \"638641928372893782137283728937828317832738273737273761228\"\n",
    "part2 = \"195185760759869989057645530122647115911285708569659594024\"\n",
    "part3 = \"445316559272737972392181418242480868160284993816981988659\"\n",
    "part4 = \"390629564549499104717875209116877202330066229963480959417\"\n",
    "part5 = \"596806455549746619727918764644414932151957144886878537346\"\n",
    "part6 = \"701772413385937956782906140121520152347838978899113367959\"\n",
    "part7 = \"368427877691197821889887704400368429082820042418140108973\"\n",
    "stringOfNums = part1 + part2 + part3 + part4 + part5 + part6 + part7"
   ]
  },
  {
   "cell_type": "markdown",
   "id": "4f3f13a0",
   "metadata": {},
   "source": [
    "## Implement a Shannon entropy function!"
   ]
  },
  {
   "cell_type": "code",
   "execution_count": 2,
   "id": "366eb02f",
   "metadata": {},
   "outputs": [
    {
     "name": "stdout",
     "output_type": "stream",
     "text": [
      "The Shannon entropy of the string is 3.3539980796058515.\n",
      "The Shannon entropy of the numbers in the string (without the \\n symbols) is 3.29152029373373.\n"
     ]
    }
   ],
   "source": [
    "import numpy as np\n",
    "import string\n",
    "\n",
    "#Shannon Entropy Function\n",
    "def shannonEntropy(text):\n",
    "    \"\"\"Computes the input text's Shannon Entropy\"\"\"\n",
    "    \n",
    "    characterProbabilityMap = {}\n",
    "    textLen = len(text)\n",
    "    \n",
    "    for char in text:\n",
    "        if char in characterProbabilityMap:\n",
    "            characterProbabilityMap[char] += 1 / textLen\n",
    "        else:\n",
    "            characterProbabilityMap[char] = 1 / textLen #create the keys from text\n",
    "        \n",
    "    return sum([-P * np.log2(P) for P in characterProbabilityMap.values() if P>0])\n",
    "\n",
    "print(f\"The Shannon entropy of the string is {shannonEntropy(stringASCII)}.\")\n",
    "print(\"The Shannon entropy of the numbers in the string \" \n",
    "      f\"(without the \\\\n symbols) is {shannonEntropy(stringOfNums)}.\")\n",
    "\n",
    "#Checked"
   ]
  },
  {
   "cell_type": "markdown",
   "id": "0b263e01",
   "metadata": {},
   "source": [
    "# Challenge2 - Something wrong\n",
    "The output of a random number generator is the following:"
   ]
  },
  {
   "cell_type": "code",
   "execution_count": 3,
   "id": "518c5317",
   "metadata": {},
   "outputs": [],
   "source": [
    "output = '3897456613370665187213127141567448077196076232687'"
   ]
  },
  {
   "cell_type": "markdown",
   "id": "32b53755",
   "metadata": {},
   "source": [
    "## Find the flaw in this generator!"
   ]
  },
  {
   "cell_type": "markdown",
   "id": "b4a0eeab",
   "metadata": {},
   "source": [
    "I made a NIST test on the numbers of the challenge, the test output is the following:"
   ]
  },
  {
   "cell_type": "markdown",
   "id": "179be94b",
   "metadata": {},
   "source": [
    "![NIST_output](NIST_out.png)"
   ]
  },
  {
   "cell_type": "markdown",
   "id": "f8fde25e",
   "metadata": {},
   "source": [
    "We can see that the numbers failed multiple tests, so we can be sure that the random number generator is not good enough."
   ]
  },
  {
   "cell_type": "markdown",
   "id": "5654b0e6",
   "metadata": {},
   "source": [
    "Before the NIST test I tried some easier methods like entropy calculation and compression with zip, but neither of them gave me bad results."
   ]
  },
  {
   "cell_type": "code",
   "execution_count": 4,
   "id": "748b706a",
   "metadata": {},
   "outputs": [],
   "source": [
    "import secrets #to generate cryptograpycly safe random numbers\n",
    "import os #for zip files and sizes"
   ]
  },
  {
   "cell_type": "code",
   "execution_count": 5,
   "id": "3946b3b0",
   "metadata": {
    "scrolled": true
   },
   "outputs": [
    {
     "name": "stdout",
     "output_type": "stream",
     "text": [
      "Maximum entrophy for decimals is 3.321928094887362\n",
      "The output's entropy is 3.180011375826478\n",
      "\n",
      "10000 cryptographycly safe random numbers' minimum entropy with the generated number:\n",
      "number = 3721246486877823062260336877347638733671346877268, entropy = 2.8098284066955057.\n"
     ]
    }
   ],
   "source": [
    "maximumEntropyForDecimals = shannonEntropy('0123456789')\n",
    "outputEntropy = shannonEntropy(output)\n",
    "\n",
    "#For numberMin I generated 10000 numbers with the same number of digits as the original output number,\n",
    "#then I chose the one which has minimum entropy over the 10000 numbers. \n",
    "numberMin = \"\"\n",
    "numberMinEntropy = float(\"inf\")\n",
    "for i in range(10000):\n",
    "    num = ''.join(secrets.choice('0123456789') for i in range(len(output)))\n",
    "    numEntropy = shannonEntropy(num)\n",
    "    if numEntropy < numberMinEntropy:\n",
    "        numberMin = num\n",
    "        numberMinEntropy = numEntropy\n",
    "        \n",
    "print(f\"Maximum entrophy for decimals is {maximumEntropyForDecimals}\")\n",
    "print(f\"The output's entropy is {outputEntropy}\")\n",
    "\n",
    "print(\"\\n10000 cryptographycly safe random numbers' minimum entropy with the generated number:\")\n",
    "print(f\"number = {numberMin}, entropy = {numberMinEntropy}.\")"
   ]
  },
  {
   "cell_type": "markdown",
   "id": "2463b99d",
   "metadata": {},
   "source": [
    "The entropy of the output seems ok, I try to investigate compression. I created three .txt files and used zip on them."
   ]
  },
  {
   "cell_type": "code",
   "execution_count": 6,
   "id": "144e07e1",
   "metadata": {},
   "outputs": [
    {
     "name": "stdout",
     "output_type": "stream",
     "text": [
      "updating: numOut.txt (deflated 22%)\n",
      "updating: numMin.txt (deflated 27%)\n",
      "updating: numMax.txt (deflated 24%)\n",
      "Safe random number zipfile size: 207 bytes.\n",
      "Minimum entropy safe random number zipfile size: 206 bytes.\n",
      "The output number zipfile size: 208 bytes.\n"
     ]
    }
   ],
   "source": [
    "f1 = open(\"numOut.txt\", 'w')\n",
    "f1.write(output)\n",
    "f1.close()\n",
    "\n",
    "f2 = open(\"numMin.txt\", \"w\")\n",
    "f2.write(numberMin)\n",
    "f2.close()\n",
    "\n",
    "f3 = open(\"numMax.txt\", \"w\")\n",
    "f3.write(''.join(secrets.choice('0123456789') for i in range(len(output))))\n",
    "f3.close()\n",
    "\n",
    "os.system(\"zip numOut.zip numOut.txt\")\n",
    "os.system(\"zip numMin.zip numMin.txt\")\n",
    "os.system(\"zip numMax.zip numMax.txt\")\n",
    "\n",
    "#os.system(\"stat -c%s numMax.zip\")\n",
    "\n",
    "numMaxSize = os.popen(\"stat -c%s numMax.zip\").read()[:-1]\n",
    "numMinSize = os.popen(\"stat -c%s numMin.zip\").read()[:-1]\n",
    "numOutSize = os.popen(\"stat -c%s numOut.zip\").read()[:-1]\n",
    "\n",
    "print(f\"Safe random number zipfile size: {numMaxSize} bytes.\")\n",
    "print(f\"Minimum entropy safe random number zipfile size: {numMinSize} bytes.\")\n",
    "print(f\"The output number zipfile size: {numOutSize} bytes.\")"
   ]
  },
  {
   "cell_type": "markdown",
   "id": "28ec43eb",
   "metadata": {},
   "source": [
    "No significant difference between compressions."
   ]
  },
  {
   "cell_type": "markdown",
   "id": "cd3ad3e8",
   "metadata": {},
   "source": [
    "# Challenge3 - Encrypted text\n",
    "The encryption algorithm is unknown. Implement a solution which decipher the following text:"
   ]
  },
  {
   "cell_type": "code",
   "execution_count": 7,
   "id": "0cac7847",
   "metadata": {},
   "outputs": [],
   "source": [
    "text = \"\"\"Vfkmfj Cfireu Lezmvijzkp zj r Ylexrizre glsczt ivjvrity\n",
    "lezmvijzkp srjvu ze Slurgvjk. Wfleuvu ze 1635, VCKV zj fev\n",
    "fw kyv crixvjk reu dfjk givjkzxzflj glsczt yzxyvi vultrkzfe\n",
    "zejkzklkzfej ze Ylexrip. Kyv 28000 jkluvekj rk VCKV riv\n",
    "fixrezqvu zekf ezev wrtlckzvj, reu zekf ivjvrity zejkzklkvj\n",
    "cftrkvu kyiflxyflk Slurgvjk reu fe kyv jtvezt srebj fw kyv\n",
    "Urelsv. VCKV zj rwwzczrkvu nzky 5 Efsvc crlivrkvj, rj nvcc\n",
    "rj nzeevij fw kyv Nfcw Gizqv, Wlcbvijfe Gizqv reu Rsvc Gizqv,\n",
    "kyv crkvjk fw nyzty nrj Rsvc Gizqv nzeevi Crjqcf Cfmrjq ze 2021.\"\"\""
   ]
  },
  {
   "cell_type": "markdown",
   "id": "f9431135",
   "metadata": {},
   "source": [
    "I tried the Caesar Cipher (Shift) decoder online and I think I got the solution:\n",
    "\n",
    "Eotvos Lorand University is a Hungarian public research\n",
    "university based in Budapest. Founded in 1635, ELTE is one\n",
    "of the largest and most prestigious public higher education\n",
    "institutions in Hungary. The 28000 students at ELTE are\n",
    "organized into nine faculties, and into research institutes\n",
    "located throughout Budapest and on the scenic banks of the\n",
    "Danube. ELTE is affiliated with 5 Nobel laureates, as well\n",
    "as winners of the Wolf Prize, Fulkerson Prize and Abel Prize,\n",
    "the latest of which was Abel Prize winner Laszlo Lovasz in 2021.\n",
    "\n",
    "Next I will implement my own Caesar Cipher decoder."
   ]
  },
  {
   "cell_type": "code",
   "execution_count": 8,
   "id": "59787814",
   "metadata": {},
   "outputs": [],
   "source": [
    "#PREREQUISITES\n",
    "################################################################################################################\n",
    "\n",
    "#Necessary imports\n",
    "import string\n",
    "import numpy as np\n",
    "from IPython.display import clear_output\n",
    "\n",
    "# Characters to shift\n",
    "lowerCaseCharacters = string.ascii_letters[:26]\n",
    "upperCaseCharacters = string.ascii_letters[26:]\n",
    "\n",
    "#relative letter frequency in the English language (source: Wikipedia)\n",
    "abcLetterFrequencyDic = {\"a\" : 0.082, \"b\" : 0.015, \"c\" : 0.027, \"d\" : 0.047, \"e\" : 0.13, \"f\" : 0.022, \"g\" : 0.02,\n",
    "                     \"h\" : 0.062, \"i\" : 0.069, \"j\" : 0.0014, \"k\" : 0.0078, \"l\" : 0.041, \"m\" : 0.027,\n",
    "                     \"n\" : 0.067, \"o\" : 0.078, \"p\" : 0.019, \"q\" : 0.0011, \"r\" : 0.059, \"s\" : 0.062, \n",
    "                     \"t\" : 0.096, \"u\" : 0.027, \"v\" : 0.0097, \"w\" : 0.024, \"x\" : 0.0015, \"y\" : 0.02, \"z\" : 0.00078}\n",
    "\n",
    "#The sum of the probabilities is greater than 1, so I needed to normalize the values (double checked).\n",
    "sumOfProbability = sum(abcLetterFrequencyDic.values())\n",
    "\n",
    "for key in abcLetterFrequencyDic:\n",
    "    abcLetterFrequencyDic[key] /= sumOfProbability\n",
    "    \n",
    "################################################################################################################\n",
    "\n",
    "#Implement Caesar encoding and decoding function as caesarCipher\n",
    "################################################################################################################\n",
    "\n",
    "def charShift(char, shift, abc):\n",
    "    \"\"\"Shifts a character (char) with the shift parameter (shift) on the given characterlist (abc)\"\"\"\n",
    "    \n",
    "    charIndex = abc.index(char)\n",
    "    newCharIndex = (charIndex + shift) % len(abc)\n",
    "    \n",
    "    return abc[newCharIndex]\n",
    "\n",
    "def caesarCipher(text, key, abc, ABC=[], decode=False):\n",
    "    \"\"\"Encodes text when 'decode' == False and decodes when 'decode' == True using Caesar code with the \n",
    "       given parameters.\"\"\"\n",
    "    if decode:\n",
    "        key = -key\n",
    "        \n",
    "    shiftedText = []\n",
    "    for char in text:\n",
    "        if char in abc:\n",
    "            shiftedText.append(charShift(char,key,abc))\n",
    "        elif char in ABC:\n",
    "            shiftedText.append(charShift(char,key,ABC))\n",
    "        else:\n",
    "            shiftedText.append(char)\n",
    "            \n",
    "    return ''.join(shiftedText)\n",
    "\n",
    "################################################################################################################\n",
    "\n",
    "#Caesar cracker with bruteforce\n",
    "def caesarCrackerBruteForce(text, abc, ABC=[]):\n",
    "    \n",
    "    for key in range(1,len(abc)):\n",
    "        clear_output()\n",
    "        print(caesarCipher(text, key, abc, ABC, decode=True))\n",
    "        condition = input('\\nIs this a meaningful text? (y : yes, other: no)')\n",
    "        if condition == \"y\":\n",
    "            return key\n",
    "        \n",
    "    print(\"Couldn't find key for Caesar code, the function returned key zero.\")\n",
    "    return 0\n",
    "\n",
    "#Caesar cracker with letter frequency analysis\n",
    "################################################################################################################\n",
    "\n",
    "def MSE(list1, list2):\n",
    "    \"\"\"Computes the mean squared error of two lists if this possible (the lists need to have the same length\n",
    "       and should contain only numeric values like ints, floats or doubles).\"\"\"\n",
    "    if len(list1) == len(list2):\n",
    "        distance = 0\n",
    "        for value1, value2 in zip(list1, list2):\n",
    "            distance += (value1 - value2) ** 2\n",
    "\n",
    "        return np.sqrt(distance) / len(list1)\n",
    "    \n",
    "    else:\n",
    "        print(\"The two list don't have the same length.\\nMSE returns 0.\")\n",
    "        return 0\n",
    "\n",
    "def createCharProbabilityDictionary(text, abc, ABC=[]):\n",
    "    \"\"\"This function counts the abc characters occurences in a dictionary, normalize it and return with\n",
    "       the dictionary.\"\"\"\n",
    "    charCount = {}\n",
    "    for char in abc:\n",
    "        charCount[char] = 0\n",
    "        \n",
    "    for char in text:\n",
    "        if char in abc:\n",
    "            charCount[char] += 1\n",
    "        elif char in ABC:\n",
    "            charCount[abc[ABC.index(char)]] += 1\n",
    "            \n",
    "    #charCount become charProbability\n",
    "    sumOfCharCount = sum(charCount.values())\n",
    "    for key in charCount:\n",
    "        charCount[key] /= sumOfCharCount\n",
    "            \n",
    "    return charCount\n",
    "\n",
    "def caesarCrackerFrequency(text, abc, abcLetterFrequencyDic, ABC=[]):\n",
    "    \"\"\"Crack the Caesar cipher text with letter frequency analysis\"\"\"\n",
    "    \n",
    "    textLetterProbabilityDic = createCharProbabilityDictionary(text,abc,ABC)\n",
    "    \n",
    "    textLetterProbabilityList = [P for P in textLetterProbabilityDic.values()]\n",
    "    abcLetterFrequencyList = [P for P in abcLetterFrequencyDic.values()] # also propability values\n",
    "    \n",
    "    #Shift with key and compute distance (MSE) between the abc and the text's letter frequency lists\n",
    "    letterFrequencyDistances = []\n",
    "    for key in range(len(abc)):\n",
    "        letterFrequencyDistances.append(MSE(np.roll(textLetterProbabilityList,-key), abcLetterFrequencyList))\n",
    "        \n",
    "    #Key with the minimum distance value has the highest chance of success.\n",
    "    return letterFrequencyDistances.index(min(letterFrequencyDistances))\n",
    "\n",
    "################################################################################################################"
   ]
  },
  {
   "cell_type": "code",
   "execution_count": 9,
   "id": "936b2001",
   "metadata": {},
   "outputs": [
    {
     "name": "stdout",
     "output_type": "stream",
     "text": [
      "Eotvos Lorand University is a Hungarian public research\n",
      "university based in Budapest. Founded in 1635, ELTE is one\n",
      "of the largest and most prestigious public higher education\n",
      "institutions in Hungary. The 28000 students at ELTE are\n",
      "organized into nine faculties, and into research institutes\n",
      "located throughout Budapest and on the scenic banks of the\n",
      "Danube. ELTE is affiliated with 5 Nobel laureates, as well\n",
      "as winners of the Wolf Prize, Fulkerson Prize and Abel Prize,\n",
      "the latest of which was Abel Prize winner Laszlo Lovasz in 2021.\n",
      "\n",
      "Is this a meaningful text? (y : yes, other: no)y\n",
      "The key value was 17.\n"
     ]
    }
   ],
   "source": [
    "#Bruteforce Caesar Cracker\n",
    "print(f\"The key value was {caesarCrackerBruteForce(text, lowerCaseCharacters, upperCaseCharacters)}.\")"
   ]
  },
  {
   "cell_type": "code",
   "execution_count": 10,
   "id": "e097cb8b",
   "metadata": {},
   "outputs": [
    {
     "name": "stdout",
     "output_type": "stream",
     "text": [
      "Eotvos Lorand University is a Hungarian public research\n",
      "university based in Budapest. Founded in 1635, ELTE is one\n",
      "of the largest and most prestigious public higher education\n",
      "institutions in Hungary. The 28000 students at ELTE are\n",
      "organized into nine faculties, and into research institutes\n",
      "located throughout Budapest and on the scenic banks of the\n",
      "Danube. ELTE is affiliated with 5 Nobel laureates, as well\n",
      "as winners of the Wolf Prize, Fulkerson Prize and Abel Prize,\n",
      "the latest of which was Abel Prize winner Laszlo Lovasz in 2021.\n"
     ]
    }
   ],
   "source": [
    "#Caesar decoding with caesarCipher function (key=17)\n",
    "print(caesarCipher(text, 17, lowerCaseCharacters, upperCaseCharacters, decode=True))"
   ]
  },
  {
   "cell_type": "code",
   "execution_count": 11,
   "id": "3dbeda11",
   "metadata": {},
   "outputs": [
    {
     "data": {
      "text/plain": [
       "17"
      ]
     },
     "execution_count": 11,
     "metadata": {},
     "output_type": "execute_result"
    }
   ],
   "source": [
    "#The output is a key value with the highest probability of success according to letter frequency analysis.\n",
    "caesarCrackerFrequency(text, lowerCaseCharacters, abcLetterFrequencyDic, ABC=upperCaseCharacters)"
   ]
  },
  {
   "cell_type": "markdown",
   "id": "8a7cb455",
   "metadata": {},
   "source": [
    "# Challenge4 - PRNG (X ,Y ,Z )\n",
    "Random numbers are very important in many fields of computer science. Predictable random numbers\n",
    "can pose high security issues in modern applications. The following formula were used to generate\n",
    "random numbers:\n",
    "$$A_{n+1} \\equiv (X A_n + Y)(mod Z)$$"
   ]
  },
  {
   "cell_type": "code",
   "execution_count": 12,
   "id": "48b3eb09",
   "metadata": {},
   "outputs": [],
   "source": [
    "A_60 = 246416751162076914019450614023070953069\n",
    "A_61 = 71744889648624900918616152933820948112\n",
    "A_62 = 313795302357961401576505497564088201464\n",
    "A_63 = 65184588491602661601360554078566915563\n",
    "A_64 = 324784228708505567112999524522359547226\n",
    "A_65 = 261576664269229262997120467444864381253\n",
    "A_66 = 91964492393066574896153531497877807434\n",
    "A_67 = 134532471980964472373259171662351157113\n",
    "\n",
    "\n",
    "#Check results are the same:\n",
    "#246416751162076914019450614023070953069\n",
    "#71744889648624900918616152933820948112\n",
    "#313795302357961401576505497564088201464\n",
    "#65184588491602661601360554078566915563\n",
    "#324784228708505567112999524522359547226\n",
    "#261576664269229262997120467444864381253\n",
    "#91964492393066574896153531497877807434\n",
    "#134532471980964472373259171662351157113"
   ]
  },
  {
   "cell_type": "markdown",
   "id": "3cefd5f0",
   "metadata": {},
   "source": [
    "## Calculate the next number $A_{68}$!"
   ]
  },
  {
   "cell_type": "code",
   "execution_count": 14,
   "id": "9088bc94",
   "metadata": {},
   "outputs": [
    {
     "name": "stdout",
     "output_type": "stream",
     "text": [
      "Recovered modulus     :  337019416517680000179061142349242166739\n",
      "Recovered multiplier  :  336410002395367246902039687686647440517\n",
      "Recovered incrementer :  291663759752273887662201396763268748473\n"
     ]
    }
   ],
   "source": [
    "#Solution from class\n",
    "\n",
    "import functools,gmpy2,binascii\n",
    "\n",
    "#Euler algorithm\n",
    "def gcd(x, y): \n",
    "    \n",
    "    while(y): \n",
    "        x, y = y, x % y \n",
    "\n",
    "    return x \n",
    "\n",
    "\n",
    "def _crack_unknown_increment(states, modulus, multiplier):\n",
    "    increment = (states[1] - states[0]*multiplier) % modulus\n",
    "    return modulus, multiplier, increment\n",
    "\n",
    "def _crack_unknown_multiplier(states, modulus):\n",
    "    inv = int(gmpy2.invert(states[1]-states[0] % modulus, modulus))\n",
    "    multiplier = ((states[2] - states[1]) * inv) % modulus\n",
    "    return _crack_unknown_increment(states, modulus, multiplier)\n",
    "\n",
    "def _crack_unknown_modulus(states):\n",
    "    diffs = [s1 - s0 for s0, s1 in zip(states, states[1:])]\n",
    "    zeroes = [t2*t0 - t1*t1 for t0, t1, t2 in zip(diffs, diffs[1:],diffs[2:])]\n",
    "    modulus = abs(functools.reduce(lambda x,y: gcd(x,y),zeroes))\n",
    "    return _crack_unknown_multiplier(states, modulus)\n",
    "\n",
    "def crack(seq):\n",
    "    return _crack_unknown_modulus(seq)\n",
    "\n",
    "\n",
    "states=[A_60, A_61, A_62, A_63, A_64, A_65, A_66, A_67]\n",
    "output=crack([states[0],states[1],states[2],states[3],states[4],states[5],states[6],states[7]])\n",
    "\n",
    "print(\"Recovered modulus     : \", output[0])\n",
    "print(\"Recovered multiplier  : \", output[1])\n",
    "print(\"Recovered incrementer : \", output[2])\n"
   ]
  },
  {
   "cell_type": "code",
   "execution_count": 15,
   "id": "7730497e",
   "metadata": {},
   "outputs": [
    {
     "name": "stdout",
     "output_type": "stream",
     "text": [
      "246416751162076914019450614023070953069\n",
      "71744889648624900918616152933820948112\n",
      "313795302357961401576505497564088201464\n",
      "65184588491602661601360554078566915563\n",
      "324784228708505567112999524522359547226\n",
      "261576664269229262997120467444864381253\n",
      "91964492393066574896153531497877807434\n",
      "134532471980964472373259171662351157113\n",
      "\n",
      "\n",
      "\n",
      "The next number, A_68 = 226704693891942394351159226135530835265\n"
     ]
    }
   ],
   "source": [
    "# Check the results\n",
    "\n",
    "#LCG algorithm\n",
    "def LCG(An, X, Y, Z):\n",
    "    return (X * An + Y) % Z\n",
    "\n",
    "An = 246416751162076914019450614023070953069\n",
    "print(An)\n",
    "for i in range(7):\n",
    "    An = LCG(An,output[1],output[2],output[0])\n",
    "    print(An)\n",
    "    \n",
    "print(\"\\n\\n\")\n",
    "print(f\"The next number, A_68 = {LCG(An,output[1],output[2],output[0])}\")"
   ]
  }
 ],
 "metadata": {
  "kernelspec": {
   "display_name": "Python 3 (ipykernel)",
   "language": "python",
   "name": "python3"
  },
  "language_info": {
   "codemirror_mode": {
    "name": "ipython",
    "version": 3
   },
   "file_extension": ".py",
   "mimetype": "text/x-python",
   "name": "python",
   "nbconvert_exporter": "python",
   "pygments_lexer": "ipython3",
   "version": "3.10.4"
  }
 },
 "nbformat": 4,
 "nbformat_minor": 5
}
