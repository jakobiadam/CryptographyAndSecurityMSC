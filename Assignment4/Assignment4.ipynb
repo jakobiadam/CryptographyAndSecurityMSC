{
 "cells": [
  {
   "cell_type": "markdown",
   "id": "7f36cfd0",
   "metadata": {},
   "source": [
    "# Challenge #1 - scrypt\n",
    "\n",
    "You were able to dump the Administrator scrypt hash from a database. The password can be found\n",
    "among the top 1000 weakest passwords.\n",
    "\n",
    "a. Recover the cleartext password.\n",
    "\n",
    "b. Implement the solution in python programming language."
   ]
  },
  {
   "cell_type": "markdown",
   "id": "32708fde",
   "metadata": {},
   "source": [
    "Administrator:8:8:1:c2VjcmV0X3NhbHQ:GydhHNhVQP4zvPGf2I/kgzQ6onwF4/+mxWKOmcY+BWA"
   ]
  },
  {
   "cell_type": "markdown",
   "id": "32df1f3b",
   "metadata": {},
   "source": [
    "I need to iterate through the passwords in the top 1000 weakest passwords (for example the rockyou.txt) and check if a password's hash matches with the hash which was dumped from the database.\n",
    "\n",
    "If I understand correctly, the salt for the hashing is c2VjcmV0X3NhbHQ and the scrypt hash is c2VjcmV0X3NhbHQ:GydhHNhVQP4zvPGf2I/kgzQ6onwF4/+mxWKOmcY+BWA.\n",
    "\n",
    "I need to use the given salt to make the hash function deterministic and to get the same hash for the correct password.\n",
    "\n",
    "Other parameters: N = 8, r = 8, p = 1, dkLen = 43."
   ]
  },
  {
   "cell_type": "code",
   "execution_count": 99,
   "id": "2961b0e1",
   "metadata": {
    "scrolled": true
   },
   "outputs": [],
   "source": [
    "import pyscrypt\n",
    "\n",
    "salt = \"c2VjcmV0X3NhbHQ\"\n",
    "scryptHash = b\"GydhHNhVQP4zvPGf2I/kgzQ6onwF4/+mxWKOmcY+BWA\".hex() #length = 43\n",
    "\n",
    "with open(\"password1000.txt\", \"r\") as f:\n",
    "    password1000 = f.read().split(\"\\n\")\n",
    "\n",
    "def recoverPassword(passwordList, salt, correctHash):\n",
    "\n",
    "    for password in passwordList:\n",
    "        passwordHash = pyscrypt.hash(password.encode(), salt.encode(), 8, 8, 1, 43).hex()\n",
    "        if passwordHash == correctHash:\n",
    "            return password\n",
    "        \n",
    "recoverPassword(password1000, salt, scryptHash)"
   ]
  },
  {
   "cell_type": "markdown",
   "id": "c4aceb61",
   "metadata": {},
   "source": [
    "Doesn't work!"
   ]
  },
  {
   "cell_type": "markdown",
   "id": "4b4c2ba8",
   "metadata": {},
   "source": [
    "# Challenge #2 - MD5 cracking\n",
    "\n",
    "MD5 hash from database, the clear text is a Hungarian vehicle registration plate (\"ABC-012\").\n",
    "\n",
    "Recover the cleartext using hashcat and implement the solution in any chosen programming language."
   ]
  },
  {
   "cell_type": "markdown",
   "id": "c2e88703",
   "metadata": {},
   "source": [
    "### Soulition with hashcat:\n",
    "\n",
    "![hashcatPlate1](./imgs/hashcatPlate1.png)\n",
    "\n",
    "![hashcatPlate2](./imgs/hashcatPlate2.png)"
   ]
  },
  {
   "cell_type": "markdown",
   "id": "93b70f59",
   "metadata": {},
   "source": [
    "### Own solution in python3"
   ]
  },
  {
   "cell_type": "code",
   "execution_count": 2,
   "id": "848cc0bd",
   "metadata": {},
   "outputs": [
    {
     "name": "stdout",
     "output_type": "stream",
     "text": [
      "RCX-789\n",
      "RCX-789 hash == 493ff01f9fd0ccf331f070aebfab3534 : True\n"
     ]
    }
   ],
   "source": [
    "import string\n",
    "import hashlib\n",
    "\n",
    "MD5 = \"493ff01f9fd0ccf331f070aebfab3534\"\n",
    "\n",
    "def crackMD5_plate(hashedPassword):\n",
    "\n",
    "    for c1 in string.ascii_uppercase:\n",
    "        for c2 in string.ascii_uppercase:\n",
    "            for c3 in string.ascii_uppercase:\n",
    "                for d1 in string.digits:\n",
    "                    for d2 in string.digits:\n",
    "                        for d3 in string.digits:\n",
    "                            s = f\"{c1}{c2}{c3}-{d1}{d2}{d3}\"\n",
    "                            if hashlib.md5(s.encode()).hexdigest() == hashedPassword:\n",
    "                                return s\n",
    "                            \n",
    "password = crackMD5_plate(MD5)\n",
    "print(password)\n",
    "print(f\"{password} hash == {MD5} : {hashlib.md5(password.encode()).hexdigest() == MD5}\")"
   ]
  },
  {
   "cell_type": "markdown",
   "id": "36c4a143",
   "metadata": {},
   "source": [
    "# Challenge #3 - Wrong implementation\n",
    "\n",
    "a. Find a password for which the algorithm returns “Access GRANTED”.\n",
    "b. Modify the code to make it secure.\n",
    "HINT: https://link.springer.com/chapter/10.1007/978-3-030-68884-4_8"
   ]
  },
  {
   "cell_type": "code",
   "execution_count": null,
   "id": "f7e428c7",
   "metadata": {
    "scrolled": true
   },
   "outputs": [],
   "source": [
    "<?php\n",
    "$ELTE_hashed_password=\n",
    "\"0e00000000000000000000000000000000000000000000000000000000000000\";\n",
    "$mypassword = readline(\"Please enter your password: \");\n",
    "if ($ELTE_hashed_password == hash('sha256',$mypassword))\n",
    "{echo \"Access GRANTED\\n\";}\n",
    "else {echo \"Access DENIED\\n\";}\n",
    "?>"
   ]
  },
  {
   "cell_type": "code",
   "execution_count": 3,
   "id": "8855e3f3",
   "metadata": {},
   "outputs": [
    {
     "data": {
      "text/plain": [
       "'0e46289032038065916139621039085883773413820991920706299695051332'"
      ]
     },
     "execution_count": 3,
     "metadata": {},
     "output_type": "execute_result"
    }
   ],
   "source": [
    "import hashlib\n",
    "hashlib.sha256(b\"34250003024812\").hexdigest()"
   ]
  },
  {
   "cell_type": "markdown",
   "id": "a64f0624",
   "metadata": {},
   "source": [
    "The core issue here is that the implementation uses the type unsafe com-parison variant of the language. The ELTE_hashed_password and sha256(\"34250003024812\") digests have the same form - starting with zeroes followed by an e and then decimal digits only - and would be interpreted as integer 0, so in linenumber 5 the if condition evaluates to true."
   ]
  },
  {
   "cell_type": "markdown",
   "id": "d542a6dc",
   "metadata": {},
   "source": [
    "a)\n",
    "\n",
    "sha256(34250003024812) -> 0e46289032038065916139621039085883773413820991920706299695051332\n",
    "\n",
    "Correct password = 34250003024812 which is a magic hash.\n",
    "\n",
    "b)\n",
    "\n",
    "The code above uses loose comparison (==) to test a given password. It should use a strict comparison (===) to avoid the magic hash attack:"
   ]
  },
  {
   "cell_type": "code",
   "execution_count": null,
   "id": "e4a01b5a",
   "metadata": {},
   "outputs": [],
   "source": [
    "<?php\n",
    "$ELTE_hashed_password=\n",
    "\"0e00000000000000000000000000000000000000000000000000000000000000\";\n",
    "$mypassword = readline(\"Please enter your password: \");\n",
    "if ($ELTE_hashed_password === hash('sha256',$mypassword))\n",
    "{echo \"Access GRANTED\\n\";}\n",
    "else {echo \"Access DENIED\\n\";}\n",
    "?>"
   ]
  },
  {
   "cell_type": "markdown",
   "id": "28f42d5d",
   "metadata": {},
   "source": [
    "# Challenge #4 - Insecure protocol\n",
    "\n",
    "The following protocol is used for transmitting secret information between a client and a server.\n",
    "\n",
    "![Protocol](./imgs/protocol.png)\n",
    "\n",
    "a. Identify weaknesses and possible vulnerabilities in the protocol.\n",
    "\n",
    "b. Suggest improvements to be compliant with FIPS 140-2 standards.\n",
    "\n",
    "c. Implement the protocol in any chosen programming language."
   ]
  },
  {
   "cell_type": "markdown",
   "id": "9f1bdbc8",
   "metadata": {},
   "source": [
    "AES ECB mode isn't recommended most of the cases (deterministic enryption for each block, use CTR mode instead).\n",
    "\n",
    "SHA256 is much shorter than the original secret X or Y, someone would brute force the possible hash outputs. We should use the shared secret as a seed for a PRG to create a common key for AES."
   ]
  },
  {
   "cell_type": "markdown",
   "id": "c13c6303",
   "metadata": {},
   "source": [
    "I choose Diffie-Hellman for public key encryption and decryption purposes."
   ]
  },
  {
   "cell_type": "code",
   "execution_count": null,
   "id": "ff395ff9",
   "metadata": {},
   "outputs": [],
   "source": []
  },
  {
   "cell_type": "markdown",
   "id": "645db31a",
   "metadata": {},
   "source": [
    "# Challenge #5 - Linear cryptanalysis\n",
    "\n",
    "Linear cryptanalysis described by Mitsuru Matsui who first applied the technique to the FEAL cipher in\n",
    "EUROCRYPT ’92. We have an 8 bits plaintext, ciphertext and key (P,C,K). We know the following linear\n",
    "expressions:\n",
    "\n",
    "![linCrypt](./imgs/lincrypt.png)\n",
    "\n",
    "a. Find a valid Plaintext, Ciphertext and Key.\n",
    "\n",
    "b. Implement the solution in any chosen programming language."
   ]
  },
  {
   "cell_type": "markdown",
   "id": "1e140390",
   "metadata": {},
   "source": [
    "P ^ C = 0b01010101 -> Every odd bit is equal and every even bit is inequal in P and C.\n",
    "\n",
    "Because of this I only have to iterate through P and K because I can calculate C from P (same bits for 1,3,5,7 and switch bits for 2,4,6,8)."
   ]
  },
  {
   "cell_type": "code",
   "execution_count": 4,
   "id": "c459ee54",
   "metadata": {},
   "outputs": [
    {
     "name": "stdout",
     "output_type": "stream",
     "text": [
      "All the valid Plaintext, Ciphertext and Key values for the given linear expressions:\n",
      "\n",
      "       Plaintexts               Ciphertexts                 Keys\n",
      "[0, 0, 0, 0, 1, 0, 1, 1] [0, 1, 0, 1, 1, 1, 1, 0] [0, 1, 1, 1, 0, 0, 0, 0]\n",
      "[0, 1, 0, 0, 0, 1, 0, 1] [0, 0, 0, 1, 0, 0, 0, 0] [1, 0, 0, 0, 0, 0, 0, 1]\n",
      "[1, 0, 1, 1, 1, 0, 1, 0] [1, 1, 1, 0, 1, 1, 1, 1] [0, 1, 1, 1, 1, 1, 1, 0]\n",
      "[1, 1, 1, 1, 0, 1, 0, 0] [1, 0, 1, 0, 0, 0, 0, 1] [1, 0, 0, 0, 1, 1, 1, 1]\n"
     ]
    }
   ],
   "source": [
    "def generatePossiblePKandC_lists():\n",
    "    \n",
    "    pkList = []\n",
    "    cList = []\n",
    "\n",
    "    for i in range(256): #iterate through the possible P values\n",
    "\n",
    "        p = 8 * [0] #values in a list (example: [0,0,0,1,0,1,0,0])\n",
    "        for j, digit in enumerate(bin(i)[-1:1:-1]):\n",
    "            p[-1-j] = int(digit)\n",
    "\n",
    "        #calculate C for a given P (P ^ C == 0b01010101)\n",
    "        c  = 8 * [0]\n",
    "        for j, val in enumerate(zip(c,p)):\n",
    "            if j % 2 == 0:\n",
    "                c[j] = val[1]\n",
    "            else:\n",
    "                if val[0] == val[1]:\n",
    "                    c[j] = 1\n",
    "\n",
    "        pkList.append(p)\n",
    "        cList.append(c)\n",
    "\n",
    "    return (pkList, cList)\n",
    "\n",
    "def linearTest(P,C,K):\n",
    "    #indeces from zero\n",
    "    l1  = P[0] ^ P[3] ^ P[2] ^ C[0] ^ C[4] == K[3]\n",
    "    l2  = P[2] ^ P[5] ^ P[0] ^ C[0] ^ C[2] == K[7]\n",
    "    l3  = P[2] ^ P[5] ^ P[7] ^ C[1] ^ C[7] == K[5]\n",
    "    l4  = P[2] ^ P[1] ^ P[6] ^ C[4] ^ C[7] == K[0]\n",
    "    l5  = P[4] ^ P[3] ^ P[6] ^ C[5] ^ C[1] == K[6]\n",
    "    l6  = P[6] ^ P[2] ^ P[0] ^ C[2] ^ C[7] == K[3]\n",
    "    l7  = P[0] ^ P[2] ^ P[4] ^ C[6] ^ C[6] == K[1]\n",
    "    l8  = P[4] ^ P[7] ^ P[6] ^ C[1] ^ C[2] == K[0]\n",
    "    l9  = P[6] ^ P[2] ^ P[6] ^ C[0] ^ C[6] == K[2]\n",
    "    l10 = P[5] ^ P[6] ^ P[1] ^ C[4] ^ C[0] == K[6]\n",
    "    l11 = P[0] ^ P[7] ^ P[5] ^ C[2] ^ C[3] == K[7]\n",
    "    l12 = P[0] ^ P[2] ^ P[6] ^ C[1] ^ C[0] == K[4]\n",
    "    l13 = P[2] ^ P[4] ^ P[0] ^ C[7] ^ C[2] == K[2]\n",
    "    l14 = P[1] ^ P[5] ^ P[6] ^ C[1] ^ C[5] == K[1]\n",
    "    l15 = P[7] ^ P[0] ^ P[6] ^ C[3] ^ C[6] == K[4]\n",
    "    l16 = P[0] ^ P[1] ^ P[2] ^ C[3] ^ C[4] == K[5]\n",
    "    \n",
    "    return (l1 and l2 and l3 and l4 and l5 and l6 and l7 and l8\n",
    "            and l9 and l10 and l11 and l12 and l13 and l14 and l15 and l16)\n",
    "\n",
    "def findAndPrintAllValidPCK():\n",
    "    pkList, cList = generatePossiblePKandC_lists()\n",
    "    \n",
    "    for i, pc in enumerate(zip(pkList, cList)):\n",
    "        p = pc[0]\n",
    "        c = pc[1]\n",
    "        \n",
    "        for k in pkList:\n",
    "            if linearTest(p, c, k):\n",
    "                print(p, c, k)\n",
    "                \n",
    "def findFirstValidPCK():\n",
    "    pkList, cList = generatePossiblePKandC_lists()\n",
    "    \n",
    "    for i, pc in enumerate(zip(pkList, cList)):\n",
    "        p = pc[0]\n",
    "        c = pc[1]\n",
    "        \n",
    "        for k in pkList:\n",
    "            if linearTest(p, c, k):\n",
    "                return (p, c, k)\n",
    "            \n",
    "print(\"All the valid Plaintext, Ciphertext and Key values for the given linear expressions:\\n\")\n",
    "print(\"       Plaintexts               Ciphertexts                 Keys\")\n",
    "findAndPrintAllValidPCK()"
   ]
  },
  {
   "cell_type": "markdown",
   "id": "75de1aa6",
   "metadata": {},
   "source": [
    "# Challenge #6 - MySQL3.23 hash cracking\n",
    "\n",
    "We have the following MySQL 3.23 hash: 789abffc71d4fbbe\n",
    "\n",
    "a. Recover the cleartext password.\n",
    "\n",
    "b. Recommend a more secure hash function."
   ]
  },
  {
   "cell_type": "markdown",
   "id": "b1867400",
   "metadata": {},
   "source": [
    "I used the MySQL323 Collider 1.1 program from Tobtu's website (source: https://tobtu.com/mysql323.php)\n",
    "\n",
    "The code snippet that I used:\n",
    "\n",
    "![mySQL323Collider](./imgs/mySQL323Collider2.png)\n",
    "\n",
    "a) We can see that #DXO^r<d*48TJ will be a good cleartext password for 789abffc71d4fbbe hash.\n",
    "\n",
    "b) For password hashing, Argon2, PBKDF2, Scrypt or Bcrypt would be a better choice."
   ]
  },
  {
   "cell_type": "markdown",
   "id": "31962b61",
   "metadata": {},
   "source": [
    "# Challenge #7 - Cascade Ciphers\n",
    "\n",
    "“Cascade Ciphers: The Importance of Being First” written by Maurer and Massey in 1993. The article can\n",
    "be downloaded from the internet.\n",
    "\n",
    "What is the main conclusion of the article? (25-30 sentences)"
   ]
  },
  {
   "cell_type": "markdown",
   "id": "d8623896",
   "metadata": {},
   "source": [
    "Product ciphers: encrypting the plaintext multiple times with the same key.\n",
    "\n",
    "Cascade ciphers: encrypting the plaintext multiple times with statistically independent keys.\n",
    "\n",
    "Cascade ciphers are at least as strong as their first component.\n",
    "\n",
    "If a cascades's ciphers commute: the cascade ciphers are at least as strong as their most-difficult-to-break component.\n",
    "\n",
    "Additive stream ciphers do commute, and this fact is used to suggest a strategy for designing secure practical\n",
    "ciphers.\n",
    "\n",
    "Note that although it can be proved \"only\" that a cryptographic stream-cipher chain is always at least as strong as the strongest link, it can be reasonably conjectured that the cascade is usually much stronger.\n",
    "\n",
    "Using multiple encryption with different methods (with different necessary assumptions for security like RSA with factoring large numbers and Diffie-Hellman with discrete logarithm problem) can make our system more secure (if methods fail in the future our system will be safe with at least one strong method which stands the test of time)."
   ]
  }
 ],
 "metadata": {
  "kernelspec": {
   "display_name": "Python 3 (ipykernel)",
   "language": "python",
   "name": "python3"
  },
  "language_info": {
   "codemirror_mode": {
    "name": "ipython",
    "version": 3
   },
   "file_extension": ".py",
   "mimetype": "text/x-python",
   "name": "python",
   "nbconvert_exporter": "python",
   "pygments_lexer": "ipython3",
   "version": "3.10.4"
  }
 },
 "nbformat": 4,
 "nbformat_minor": 5
}
