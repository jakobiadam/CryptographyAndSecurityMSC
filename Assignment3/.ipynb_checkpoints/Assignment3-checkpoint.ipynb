{
 "cells": [
  {
   "cell_type": "markdown",
   "id": "a2852200",
   "metadata": {},
   "source": [
    "# Challenge #1 - Brute-force\n",
    "\n",
    "a. Write a program that recover the cleartext password.\n",
    "\n",
    "b. Recommend a more secure algorithm for password hashing."
   ]
  },
  {
   "cell_type": "markdown",
   "id": "d9b2bc67",
   "metadata": {},
   "source": [
    "b -> More secure algorithms for password hashing: PBKDF2, bcrypt, scrypt, Argon2."
   ]
  },
  {
   "cell_type": "markdown",
   "id": "0d809401",
   "metadata": {},
   "source": [
    "We have the following small script. The embedded password is only 6 characters long."
   ]
  },
  {
   "cell_type": "code",
   "execution_count": null,
   "id": "709188a0",
   "metadata": {},
   "outputs": [],
   "source": [
    "AuthClass ELTE {\n",
    "    self.username = administrator_elte\n",
    "    rx = Crypt_SHA2(passwd.input)\n",
    "    if b64.encode(hex.decode(rx))==\"nyuPTeLboduudJ95DKbuMd7iHjozD8vFZ3Gjen9qDvA=\"\n",
    "    {\n",
    "    \"Access granted!\"\n",
    "    }\n",
    "}"
   ]
  },
  {
   "cell_type": "code",
   "execution_count": 1,
   "id": "06795d8c",
   "metadata": {},
   "outputs": [
    {
     "name": "stdout",
     "output_type": "stream",
     "text": [
      "A correct password (for the given hash) is 'Elte22'.\n",
      "correctHash == correctPassword's hash : True\n"
     ]
    }
   ],
   "source": [
    "import string\n",
    "import base64\n",
    "import hashlib\n",
    "\n",
    "possibleCharacters = string.printable\n",
    "\n",
    "correctHash = \"nyuPTeLboduudJ95DKbuMd7iHjozD8vFZ3Gjen9qDvA=\"\n",
    "\n",
    "#REALLY SLOW\n",
    "def bruteForcePrintableSixCharactersPassword(correctHash, possibleCharacters):\n",
    "    \"\"\"It iterates through all the possible printable character combinations for\n",
    "       a six character long password which match with the correct password's\n",
    "       sha256 hash in base64 form.\"\"\"\n",
    "\n",
    "    for s1 in possibleCharacters:\n",
    "        for s2 in possibleCharacters:\n",
    "            for s3 in possibleCharacters:\n",
    "                for s4 in possibleCharacters:\n",
    "                    for s5 in possibleCharacters:\n",
    "                        for s6 in possibleCharacters:\n",
    "                            s = f\"{s1}{s2}{s3}{s4}{s5}{s6}\"\n",
    "                            if (correctHash == base64.b64encode(\n",
    "                                hashlib.sha256(s.encode()).digest()).decode()):\n",
    "                                return s\n",
    "\n",
    "def bruteForceAaaa11FormatSixCharactersPassword(correctHash):\n",
    "    \"\"\"It iterates through all the possible combinations for 'Abcd12' form\n",
    "       passwords to find one which match with the correct password's\n",
    "       sha256 hash in base64 form.\"\"\"\n",
    "\n",
    "    for s1 in string.ascii_uppercase:\n",
    "        for s2 in string.ascii_lowercase:\n",
    "            for s3 in string.ascii_lowercase:\n",
    "                for s4 in string.ascii_lowercase:\n",
    "                    for s5 in string.digits:\n",
    "                        for s6 in string.digits:\n",
    "                            s = f\"{s1}{s2}{s3}{s4}{s5}{s6}\"\n",
    "                            if (correctHash == base64.b64encode(\n",
    "                                hashlib.sha256(s.encode()).digest()).decode()):\n",
    "                                return s\n",
    "                        \n",
    "correctPassword = bruteForceAaaa11FormatSixCharactersPassword(correctHash)\n",
    "isPasswordCorrect = (base64.b64encode(hashlib.sha256(\n",
    "                     correctPassword.encode()).digest()).decode() == correctHash)\n",
    "\n",
    "print(f\"A correct password (for the given hash) is '{correctPassword}'.\")\n",
    "print(f\"correctHash == correctPassword's hash : {isPasswordCorrect}\")"
   ]
  },
  {
   "cell_type": "markdown",
   "id": "bff9baa5",
   "metadata": {},
   "source": [
    "# Challenge #2 - Finite Field\n",
    "\n",
    "AES is using the following reducing polynomial for multiplication: x^8+ x^4 + x^3 + x + 1.\n",
    "\n",
    "Implement the general AES GF(2^8) multiplication in any chosen programming language\n",
    "\n",
    "and calculate the following four multiplication!"
   ]
  },
  {
   "cell_type": "code",
   "execution_count": 2,
   "id": "978e0553",
   "metadata": {},
   "outputs": [
    {
     "name": "stdout",
     "output_type": "stream",
     "text": [
      "GF(2^8): 0xca * 0x53 = 1 base16 = 1\n",
      "GF(2^8): 0x11 * 0xda = d5 base16 = 213\n",
      "GF(2^8): 0x99 * 0xff = 4a base16 = 74\n",
      "GF(2^8): 0xcc * 0x39 = 6a base16 = 106\n"
     ]
    }
   ],
   "source": [
    "#Source: Wikipedia - Finite field arithmetic\n",
    "\n",
    "#Multiply two numbers in the GF(2^8) finite field defined \n",
    "#by the modulo polynomial relation x^8 + x^4 + x^3 + x + 1 = 0\n",
    "def gmul(a, b):\n",
    "    \"\"\"a and b can be hexadecimals or integer numbers\"\"\"\n",
    "    p = 0; #accumulator for the product of the multiplication\n",
    "    while (a != 0 and b != 0):\n",
    "        \n",
    "        #if the polynomial for b has a constant term, add the corresponding a to p\n",
    "        if (b & 1):\n",
    "            p = p^a #addition in GF(2^m) is an XOR of the polynomial coefficients\n",
    "\n",
    "            \n",
    "        #GF modulo: if a has a nonzero term x^7, then must be reduced when it becomes x^8\n",
    "        if (a & 0x80):\n",
    "            \n",
    "            # subtract (XOR) the primitive polynomial x^8 + x^4 + x^3 + x + 1\n",
    "            a = (a << 1) ^ 0x11b\n",
    "        else:\n",
    "            a <<= 1 # equivalent to a*x\n",
    "        b >>= 1\n",
    "\n",
    "    return p\n",
    "\n",
    "#I double checked the results with a github code:\n",
    "#https://github.com/AndrewIjano/galois-field-calculator/blob/master/gf_calculator.py#L68\n",
    "print(f\"GF(2^8): 0xca * 0x53 = {hex(gmul(0xca, 0x53))[2:]} base16 = {gmul(0xca, 0x53)}\")\n",
    "print(f\"GF(2^8): 0x11 * 0xda = {hex(gmul(0x11, 0xda))[2:]} base16 = {gmul(0x11, 0xda)}\")\n",
    "print(f\"GF(2^8): 0x99 * 0xff = {hex(gmul(0x99, 0xff))[2:]} base16 = {gmul(0x99, 0xff)}\")\n",
    "print(f\"GF(2^8): 0xcc * 0x39 = {hex(gmul(0xcc, 0x39))[2:]} base16 = {gmul(0xcc, 0x39)}\")"
   ]
  },
  {
   "cell_type": "markdown",
   "id": "f97fb6e4",
   "metadata": {},
   "source": [
    "# Challenge #3 - Collision\n",
    "\n",
    "a. Provide two different strings s1 and s2 where encrypt(s1)=encrypt(s2)\n",
    "\n",
    "b. Implement the solution in any chosen programming language."
   ]
  },
  {
   "cell_type": "code",
   "execution_count": 3,
   "id": "e45c6147",
   "metadata": {},
   "outputs": [
    {
     "name": "stdout",
     "output_type": "stream",
     "text": [
      "password  = abcd1234 -> 9e1ce92f65ca99ebadec82317a2f4a98\n",
      "collision = XL3X8D0F -> 9e1ce92f65ca99ebadec82317a2f4a98\n",
      "password_hash == collision_hash : True\n"
     ]
    }
   ],
   "source": [
    "import string, random, hashlib\n",
    "\n",
    "password = \"abcd1234\"\n",
    "\n",
    "\n",
    "#password encryption from Challenge #3\n",
    "def encrypt(password):\n",
    "        h = hashlib.md5(password.encode()).hexdigest()\n",
    "        l = list(h)\n",
    "        l.sort()\n",
    "        return hashlib.md5((''.join(l)[:13]+\"ABCD\").encode()).hexdigest()\n",
    "\n",
    "password_hash = encrypt(password)\n",
    "collision = \"\"\n",
    "\n",
    "#Generates a random string (here length = 8) from uppercase characters and digits\n",
    "def id_generator(size=8, chars=string.ascii_uppercase + string.digits):\n",
    "    return ''.join(random.choice(chars) for x in range(size))\n",
    "\n",
    "#Generates a lot of random strings and looks for a collision\n",
    "for i in range(1,1000000):\n",
    "    text = id_generator()\n",
    "    if encrypt(text)==password_hash:\n",
    "        collision = text\n",
    "        break\n",
    "        \n",
    "print(f\"password  = {password} -> {password_hash}\")\n",
    "print(f\"collision = {collision} -> {encrypt(collision)}\")\n",
    "print(f\"password_hash == collision_hash : {password_hash == encrypt(collision)}\")"
   ]
  },
  {
   "cell_type": "markdown",
   "id": "cfcea8cb",
   "metadata": {},
   "source": [
    "# Challenge #4 - AES or RSA\n",
    "\n",
    "Describe the most important differences between AES and RSA (10-12 sentences)."
   ]
  },
  {
   "cell_type": "markdown",
   "id": "9077b719",
   "metadata": {},
   "source": [
    "RSA and AES are both encryption algorithms.\n",
    "\n",
    "RSA is an asymmetric key algorithm. It uses two different keys (public and private key) for encryption and decryption. The public key is available to anyone but the private key is kept in secret (the private key is possessed by the owner). Public key encryption is used for exchanging data and private key encryption is used for authentication (digital signatures). It is a stream cipher algorithm. It is safe because of the hardness of factoring large integers.\n",
    "\n",
    "AES is a symmetric key algorithm, the same key is used for both encryption and decryption. It is a 128-bit block cipher algorithm. It's strength is in the possible key permutations using Rijndael finite field method internally.\n",
    "\n",
    "Main differences: \n",
    "\n",
    "RSA: asymmetric, stream, slow algorithm only for encrypting short messages (like the symmetric key), it is safe because of the hardness of factoring large integers.\n",
    "\n",
    "AES: symmetric, block cipher, fast algorithm for encrypting large data, its strength is in the possible permutations using Rijndael finite field method.\n",
    "\n"
   ]
  }
 ],
 "metadata": {
  "kernelspec": {
   "display_name": "Python 3 (ipykernel)",
   "language": "python",
   "name": "python3"
  },
  "language_info": {
   "codemirror_mode": {
    "name": "ipython",
    "version": 3
   },
   "file_extension": ".py",
   "mimetype": "text/x-python",
   "name": "python",
   "nbconvert_exporter": "python",
   "pygments_lexer": "ipython3",
   "version": "3.10.4"
  }
 },
 "nbformat": 4,
 "nbformat_minor": 5
}
